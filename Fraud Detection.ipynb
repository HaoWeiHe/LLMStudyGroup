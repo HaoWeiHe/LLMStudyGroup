{
 "cells": [
  {
   "cell_type": "markdown",
   "id": "42244537",
   "metadata": {},
   "source": [
    "# LLM Study Group Notebook: Kaggle Competition - Fraud Detection\n",
    "\n",
    "This notebook is intended for the LLM Study Group and focuses on the Kaggle competition for fraud detection.\n",
    "\n",
    "## Overview\n",
    "\n",
    "The **IEEE-CIS Fraud Detection** competition is hosted on Kaggle in partnership with IEEE and the Data Science Institute (CIS). The competition aims to develop models that can accurately identify fraudulent transactions using machine learning techniques.\n",
    "\n",
    "## Competition Details\n",
    "\n",
    "- **Host**: Kaggle, IEEE, and the Data Science Institute (CIS)\n",
    "- **Objective**: Create a machine learning model to detect fraudulent transactions.\n",
    "- **Data Source**: Kaggle competition dataset\n",
    "\n",
    "## Sections\n",
    "\n",
    "### 0. Data Import from Kaggle\n",
    "\n",
    "**Description**: Import the dataset provided by the IEEE-CIS Fraud Detection competition. This data will be used for building and evaluating the fraud detection model.\n",
    "**Resource**: [Kaggle Competition Data](https://www.kaggle.com/competitions/ieee-fraud-detection/data)\n",
    "\n",
    "\n",
    "### 1. Exploratory Data Analysis (EDA)\n",
    "\n",
    "- **Description**: Analyze the dataset to understand its structure, distribution, and any underlying patterns.\n",
    "- **Tasks**:\n",
    "  - Data Cleaning\n",
    "  - Feature Exploration\n",
    "  - Visualization\n",
    "  \n",
    "### 2. Model Selection\n",
    "\n",
    "- **Description**: Select and implement suitable machine learning algorithms to tackle the fraud detection problem. Evaluate different models to determine which best meets the objectives of the competition.\n",
    "\n",
    "- **Tasks**:\n",
    "  - **Model Comparison**:\n",
    "    - **Neural Network (NN) Model**:\n",
    "      - **Layer Normalization**: Explore the impact of layer normalization on model performance and stability.\n",
    "    - **Gradient Boosting Decision Trees (GBDT) Model**:\n",
    "      - **Overview**: Evaluate the effectiveness of GBDT models, such as XGBoost or LightGBM.\n",
    "    - **Rationale**: Justify the choice of models based on their performance, interpretability, and suitability for the fraud detection task.\n",
    "  - **Hyperparameter Tuning**:\n",
    "    - Optimize hyperparameters for each selected model to improve performance and prevent overfitting.\n",
    "  - **Model Training and Validation**:\n",
    "    - Train models using the training dataset.\n",
    "    - Validate models using cross-validation or a validation set to assess their generalization capability.\n",
    "\n",
    "### 3. Metrics & Error Analysis\n",
    "\n",
    "- **Description**: Assess model performance using various metrics and perform error analysis to identify areas for improvement.\n",
    "\n",
    "- **Tasks**:\n",
    "  - **Performance Metrics**:\n",
    "    - **AUC-ROC**: Evaluate the model’s ability to distinguish between fraudulent and non-fraudulent transactions.\n",
    "    - **Log Loss**: Measure the accuracy of predicted probabilities.\n",
    "    - **Recall and Precision**: Assess the model’s ability to correctly identify fraudulent transactions (recall) and the proportion of correctly identified fraudulent transactions out of all predicted fraudulent ones (precision).\n",
    "  - **Comparison of Metrics**:\n",
    "    - Discuss the advantages and limitations of each metric in the context of the fraud detection task.\n",
    "  - **Error Analysis**:\n",
    "    - Analyze misclassified transactions to understand where and why errors occur.\n",
    "  - **Model Interpretation**:\n",
    "    - Interpret model predictions and feature importances to gain insights into the model's decision-making process and identify potential areas for improvement.\n",
    "\n",
    "\n",
    "### 4. Enhancement Rollout Plan\n",
    "\n",
    "- **Description**: Plan for enhancing the model and improving data quality. This includes identifying and addressing areas for improvement in both the model and the data, and ensuring a smooth transition to deployment.\n",
    "\n",
    "- **Tasks**:\n",
    "  - **Identify Areas for Improvement**:\n",
    "    - **Model Performance**: Analyze current model performance and identify specific areas for improvement, such as accuracy, precision, recall, or other relevant metrics.\n",
    "    - **Data Quality**: Evaluate data quality and identify any issues such as missing values, outliers, or data imbalances.\n",
    "    - **Feature Engineering**: Determine if additional feature engineering or new features could enhance model performance.\n",
    "  - **Implement Enhancements**:\n",
    "    - **Model Enhancements**:\n",
    "      - Apply advanced techniques such as hyperparameter tuning, model ensembling, or exploring alternative algorithms to improve performance.\n",
    "    - **Data Improvements**:\n",
    "      - **Data Cleaning**: Address issues in the dataset by handling missing values, correcting inconsistencies, and removing or mitigating outliers.\n",
    "      - **Feature Engineering**: Develop new features or modify existing ones to provide more meaningful inputs to the model, enhancing its predictive power.\n",
    "      - **Data Augmentation**: Increase the diversity and volume of the training data through techniques such as oversampling underrepresented classes, generating synthetic samples, or incorporating additional relevant data.\n",
    "      - **Re-calibration (if needed)**: Adjust the model’s probability outputs or decision thresholds to improve performance metrics or better align with business objectives.\n"
   ]
  },
  {
   "cell_type": "markdown",
   "id": "7749cd97",
   "metadata": {},
   "source": [
    "## Section 0: Data Import from Kaggle"
   ]
  },
  {
   "cell_type": "code",
   "execution_count": 26,
   "id": "2fa3bfdf",
   "metadata": {},
   "outputs": [],
   "source": [
    "# !pip install kaggle\n",
    "# !mv ~/Downloads/kaggle.json .\n",
    "# !mkdir -p ~/.kaggle \n",
    "# !chmod 600 ~/.kaggle/kaggle.json"
   ]
  },
  {
   "cell_type": "code",
   "execution_count": 7,
   "id": "cc29f36b",
   "metadata": {},
   "outputs": [],
   "source": [
    "#set up the Kaggle API credentials\n",
    "\n",
    "import os\n",
    "import json\n",
    "\n",
    "kaggle_json_path = 'kaggle.json'\n",
    "\n",
    "with open(kaggle_json_path) as f:\n",
    "    kaggle_json = json.load(f)\n",
    "\n",
    "os.environ['KAGGLE_USERNAME'] = kaggle_json['username']\n",
    "os.environ['KAGGLE_KEY'] = kaggle_json['key']"
   ]
  },
  {
   "cell_type": "code",
   "execution_count": 6,
   "id": "4a4aa4f8",
   "metadata": {},
   "outputs": [
    {
     "name": "stdout",
     "output_type": "stream",
     "text": [
      "Downloading ieee-fraud-detection.zip to /Users/wei/Documents/workspace/studyGroup\n",
      " 97%|██████████████████████████████████████▉ | 115M/118M [00:03<00:00, 40.2MB/s]\n",
      "100%|████████████████████████████████████████| 118M/118M [00:03<00:00, 37.5MB/s]\n"
     ]
    }
   ],
   "source": [
    "!kaggle competitions download -c ieee-fraud-detection"
   ]
  },
  {
   "cell_type": "markdown",
   "id": "d3c40ee1",
   "metadata": {},
   "source": [
    "## Section1: Exploratory Data Analysis (EDA)"
   ]
  },
  {
   "cell_type": "markdown",
   "id": "d2b4e38a",
   "metadata": {},
   "source": [
    "## Section 2. Model Selection"
   ]
  },
  {
   "cell_type": "code",
   "execution_count": null,
   "id": "c225f4eb",
   "metadata": {},
   "outputs": [],
   "source": [
    "### What is the defination of batch/layer Normalization? Vis?"
   ]
  },
  {
   "cell_type": "code",
   "execution_count": 1,
   "id": "04aee789",
   "metadata": {},
   "outputs": [],
   "source": [
    "### What is Layer Normalization\n"
   ]
  },
  {
   "cell_type": "code",
   "execution_count": null,
   "id": "e44b8ac9",
   "metadata": {},
   "outputs": [],
   "source": [
    "### comparison Normalization"
   ]
  },
  {
   "cell_type": "code",
   "execution_count": null,
   "id": "77097a93",
   "metadata": {},
   "outputs": [],
   "source": [
    "### if we dont have normalization -> how/why it effect training"
   ]
  },
  {
   "cell_type": "code",
   "execution_count": null,
   "id": "388cc515",
   "metadata": {},
   "outputs": [],
   "source": [
    "### 通道 v.s. layers how it works on different layers"
   ]
  },
  {
   "cell_type": "code",
   "execution_count": null,
   "id": "c2df7724",
   "metadata": {},
   "outputs": [],
   "source": [
    "# why 允许较大的学习率"
   ]
  },
  {
   "cell_type": "code",
   "execution_count": null,
   "id": "04fcc497",
   "metadata": {},
   "outputs": [],
   "source": [
    "### Internal Covariate Shift (ICS) 问题：在训练的过程中，激活函数会改变各层数据的分布，随着网络的加深，这种改变（差异）会越来越大，使模型训练起来特别困难，收敛速度很慢，会出现梯度消失的问题。"
   ]
  },
  {
   "cell_type": "code",
   "execution_count": null,
   "id": "eaf485e9",
   "metadata": {},
   "outputs": [],
   "source": [
    "### What scenarios, BN works better?"
   ]
  },
  {
   "cell_type": "code",
   "execution_count": null,
   "id": "3ee5388a",
   "metadata": {},
   "outputs": [],
   "source": [
    "### Performace"
   ]
  },
  {
   "cell_type": "markdown",
   "id": "3812627d",
   "metadata": {},
   "source": [
    "## Section 3.  Metrics & Error Analysis"
   ]
  },
  {
   "cell_type": "markdown",
   "id": "264f7209",
   "metadata": {},
   "source": [
    "## Section 4. Enhancement Rollout Plan"
   ]
  }
 ],
 "metadata": {
  "kernelspec": {
   "display_name": "Python 3 (ipykernel)",
   "language": "python",
   "name": "python3"
  },
  "language_info": {
   "codemirror_mode": {
    "name": "ipython",
    "version": 3
   },
   "file_extension": ".py",
   "mimetype": "text/x-python",
   "name": "python",
   "nbconvert_exporter": "python",
   "pygments_lexer": "ipython3",
   "version": "3.9.5"
  }
 },
 "nbformat": 4,
 "nbformat_minor": 5
}
